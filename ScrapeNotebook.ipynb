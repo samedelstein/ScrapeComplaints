{
 "cells": [
  {
   "cell_type": "code",
   "execution_count": 37,
   "metadata": {
    "collapsed": false
   },
   "outputs": [],
   "source": [
    "import urllib2\n",
    "from bs4 import BeautifulSoup\n",
    "from geopy.geocoders import Nominatim\n",
    "\n",
    "f = open('CityLine.txt', 'w')\n",
    "\n",
    "for number in range (1,50):\n",
    "    link = 'http://ipsweb.ci.syracuse.ny.us/viewtranscomplaint.aspx?id=' + str(number)\n",
    "    page = urllib2.urlopen(link)\n",
    "    soup = BeautifulSoup(page)\n",
    "    \n",
    "    complaintRecord = soup.find(\"span\", {\"id\": \"content_headerrecordnumber_lblRecord\"}).string\n",
    "    address = soup.find(\"span\", {\"id\": \"content_headeraddress_lblAddress\"}).string\n",
    "    complaintType = soup.find(\"span\", {\"id\": \"content_line1description_lblType\"}).string\n",
    "    status = soup.find(\"span\", {\"id\": \"content_line2description_lblStatus\"}).string\n",
    "    description = soup.find(\"span\", {\"id\": \"content_descriptiondescription_lblDescription\"}).string\n",
    "    \n",
    "    x = str(complaintRecord) + \"|\" + str(address) + \"|\" + str(complaintType) + \"|\" + str(status) + \"|\" + str(description) + \"\\n\"\n",
    "    \n",
    "    for s in x:\n",
    "        f.write(s)\n",
    "\n",
    "\n"
   ]
  },
  {
   "cell_type": "code",
   "execution_count": 2,
   "metadata": {
    "collapsed": true
   },
   "outputs": [],
   "source": [
    "# Permit Application\n",
    "\n",
    "# In[171]:\n",
    "\n",
    "import urllib2\n",
    "from bs4 import BeautifulSoup\n",
    "\n",
    "f = open('PermitApplication.txt', 'w')\n",
    "\n",
    "for number in range (1,50):\n",
    "    link = 'http://ipsweb.ci.syracuse.ny.us/viewtranspa.aspx?id=' + str(number)\n",
    "    page = urllib2.urlopen(link)\n",
    "    soup = BeautifulSoup(page)\n",
    "    \n",
    "    permitApp = soup.find(\"span\", {\"id\": \"content_headerrecordnumber_lblRecord\"}).string\n",
    "    address = soup.find(\"span\", {\"id\": \"content_headeraddress_lblAddress\"}).string\n",
    "    date = soup.find(\"span\", {\"id\": \"content_headerdate_lblDate\"}).string\n",
    "    permitType = soup.find(\"span\", {\"id\": \"content_line2description_lblType\"}).string\n",
    "    description = soup.find(\"span\", {\"id\": \"content_descriptiondescription_lblDescription\"}).string\n",
    "    \n",
    "    x = str(permitApp) + \"|\" + str(address) + \"|\" + str(date) + \"|\" + str(permitType) + \"|\" + str(description) + \"\\n\"\n",
    "    \n",
    "    for s in x:\n",
    "        f.write(s)\n",
    "\n",
    "\n"
   ]
  },
  {
   "cell_type": "code",
   "execution_count": 3,
   "metadata": {
    "collapsed": true
   },
   "outputs": [],
   "source": [
    "# Permit\n",
    "\n",
    "# In[176]:\n",
    "\n",
    "import urllib2\n",
    "from bs4 import BeautifulSoup\n",
    "\n",
    "f = open('Permit.txt', 'w')\n",
    "\n",
    "for number in range (1,50):\n",
    "    link = 'http://ipsweb.ci.syracuse.ny.us/viewtranspermit.aspx?id=' + str(number)\n",
    "    page = urllib2.urlopen(link)\n",
    "    soup = BeautifulSoup(page)\n",
    "    \n",
    "    permitNum = soup.find(\"span\", {\"id\": \"content_headerrecordnumber_lblRecord\"}).string\n",
    "    address = soup.find(\"span\", {\"id\": \"content_headeraddress_lblAddress\"}).string\n",
    "    date = soup.find(\"span\", {\"id\": \"content_headerdate_lblDate\"}).string\n",
    "    permitType = soup.find(\"span\", {\"id\": \"content_line2description_lblType\"}).string\n",
    "    status = soup.find(\"span\", {\"id\": \"content_line3description_lblStatus\"}).string\n",
    "    description = soup.find(\"span\", {\"id\": \"content_descriptiondescription_lblDescription\"}).string\n",
    "    \n",
    "    x = str(permitApp) + \"|\" + str(address) + \"|\" + str(date) + \"|\" + str(permitType) + \"|\" + str(status) + \"|\" + str(description) + \"\\n\"\n",
    "    \n",
    "    for s in x:\n",
    "        f.write(s)\n",
    "\n"
   ]
  },
  {
   "cell_type": "code",
   "execution_count": null,
   "metadata": {
    "collapsed": true
   },
   "outputs": [],
   "source": []
  }
 ],
 "metadata": {
  "kernelspec": {
   "display_name": "Python 2",
   "language": "python",
   "name": "python2"
  },
  "language_info": {
   "codemirror_mode": {
    "name": "ipython",
    "version": 2
   },
   "file_extension": ".py",
   "mimetype": "text/x-python",
   "name": "python",
   "nbconvert_exporter": "python",
   "pygments_lexer": "ipython2",
   "version": "2.7.10"
  }
 },
 "nbformat": 4,
 "nbformat_minor": 0
}
